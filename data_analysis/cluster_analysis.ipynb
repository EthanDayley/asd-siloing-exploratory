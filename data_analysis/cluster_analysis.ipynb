{
 "cells": [
  {
   "cell_type": "markdown",
   "metadata": {},
   "source": [
    "# Import Modules"
   ]
  },
  {
   "cell_type": "code",
   "execution_count": 2,
   "metadata": {},
   "outputs": [],
   "source": [
    "import matplotlib.pyplot as plt\n",
    "import mysql.connector\n",
    "import numpy as np\n",
    "import os\n",
    "import pandas as pd\n",
    "from sklearn.feature_extraction.text import CountVectorizer\n",
    "from sklearn import cluster\n",
    "from sklearn.decomposition import PCA\n",
    "from sklearn.metrics import silhouette_score\n",
    "from sklearn.preprocessing import StandardScaler\n",
    "import matplotlib.colors as mcolors\n",
    "import gensim\n",
    "from gensim.models import word2vec\n",
    "from gensim.models import KeyedVectors\n",
    "from sklearn.metrics.pairwise import cosine_similarity\n",
    "from scipy.stats import ttest_ind\n",
    "from typing import List\n",
    "import math\n",
    "from sklearn.cluster import MiniBatchKMeans\n",
    "from sklearn.metrics import silhouette_samples, silhouette_score\n",
    "import phate\n",
    "import random\n",
    "import sklearn.utils"
   ]
  },
  {
   "cell_type": "markdown",
   "metadata": {},
   "source": [
    "# Connect to Database"
   ]
  },
  {
   "cell_type": "code",
   "execution_count": 3,
   "metadata": {},
   "outputs": [
    {
     "name": "stdout",
     "output_type": "stream",
     "text": [
      "Connecting to database...\n",
      "Done connecting to database.\n"
     ]
    }
   ],
   "source": [
    "# connect to database\n",
    "DB_PARAM_FILEPATH = os.path.join('C'+os.getcwd()[1:], '..', 'db_connection_params.csv')\n",
    "db_params = pd.read_csv(DB_PARAM_FILEPATH)\n",
    "db_host = db_params.host.iloc[0]\n",
    "db_user = db_params.username.iloc[0]\n",
    "db_pass = db_params.password.iloc[0]\n",
    "db_name = db_params.database.iloc[0]\n",
    "db_table = db_params.table.iloc[0]\n",
    "\n",
    "print('Connecting to database...')\n",
    "cnx = mysql.connector.connect(user = db_user, password = db_pass, host = db_host, database = db_name)\n",
    "cursor = cnx.cursor(buffered=True)\n",
    "print('Done connecting to database.')"
   ]
  },
  {
   "cell_type": "markdown",
   "metadata": {},
   "source": [
    "# Read Articles From Database"
   ]
  },
  {
   "cell_type": "code",
   "execution_count": 4,
   "metadata": {},
   "outputs": [
    {
     "name": "stdout",
     "output_type": "stream",
     "text": [
      "reading \"articles\" table\n",
      "done reading \"articles\" table\n"
     ]
    },
    {
     "name": "stderr",
     "output_type": "stream",
     "text": [
      "C:\\Users\\eeday\\AppData\\Local\\Temp\\ipykernel_24460\\1549451138.py:5: UserWarning: pandas only supports SQLAlchemy connectable (engine/connection) or database string URI or sqlite3 DBAPI2 connection. Other DBAPI2 objects are not tested. Please consider using SQLAlchemy.\n",
      "  articles = pd.read_sql(query, cnx)\n"
     ]
    },
    {
     "data": {
      "text/html": [
       "<div>\n",
       "<style scoped>\n",
       "    .dataframe tbody tr th:only-of-type {\n",
       "        vertical-align: middle;\n",
       "    }\n",
       "\n",
       "    .dataframe tbody tr th {\n",
       "        vertical-align: top;\n",
       "    }\n",
       "\n",
       "    .dataframe thead th {\n",
       "        text-align: right;\n",
       "    }\n",
       "</style>\n",
       "<table border=\"1\" class=\"dataframe\">\n",
       "  <thead>\n",
       "    <tr style=\"text-align: right;\">\n",
       "      <th></th>\n",
       "      <th>pmc_id</th>\n",
       "      <th>archive_href</th>\n",
       "      <th>abstract_text</th>\n",
       "      <th>pub_date</th>\n",
       "      <th>source</th>\n",
       "      <th>article_title</th>\n",
       "    </tr>\n",
       "  </thead>\n",
       "  <tbody>\n",
       "    <tr>\n",
       "      <th>0</th>\n",
       "      <td>PMC7284390</td>\n",
       "      <td>ftp://ftp.ncbi.nlm.nih.gov/pub/pmc/oa_package/...</td>\n",
       "      <td>the csp cell surface protein microsatellite ma...</td>\n",
       "      <td>2020-05-08</td>\n",
       "      <td>Microorganisms</td>\n",
       "      <td>Identification of CSP Types and Genotypic Vari...</td>\n",
       "    </tr>\n",
       "    <tr>\n",
       "      <th>1</th>\n",
       "      <td>PMC10478028</td>\n",
       "      <td>ftp://ftp.ncbi.nlm.nih.gov/pub/pmc/oa_package/...</td>\n",
       "      <td>abstractseveral environmental chemicals are su...</td>\n",
       "      <td>2022-11-18</td>\n",
       "      <td>Cereb Cortex Commun</td>\n",
       "      <td>Fetal blockade of nicotinic acetylcholine tran...</td>\n",
       "    </tr>\n",
       "    <tr>\n",
       "      <th>2</th>\n",
       "      <td>PMC6494343</td>\n",
       "      <td>ftp://ftp.ncbi.nlm.nih.gov/pub/pmc/oa_package/...</td>\n",
       "      <td>abstractchronic pulmonary aspergillosis cpa is...</td>\n",
       "      <td>2019-04-19</td>\n",
       "      <td>Medicine (Baltimore)</td>\n",
       "      <td>Evaluation of Aspergillus IgG, IgM antibody fo...</td>\n",
       "    </tr>\n",
       "    <tr>\n",
       "      <th>3</th>\n",
       "      <td>PMC8501721</td>\n",
       "      <td>ftp://ftp.ncbi.nlm.nih.gov/pub/pmc/oa_package/...</td>\n",
       "      <td>backgroundautism spectrum disorder asd is a co...</td>\n",
       "      <td>2021-10-09</td>\n",
       "      <td>BMC Neurosci</td>\n",
       "      <td>A systematic review of common genetic variatio...</td>\n",
       "    </tr>\n",
       "    <tr>\n",
       "      <th>4</th>\n",
       "      <td>PMC9620685</td>\n",
       "      <td>ftp://ftp.ncbi.nlm.nih.gov/pub/pmc/oa_package/...</td>\n",
       "      <td>background and aimstrategies to modify and adj...</td>\n",
       "      <td>2022-09-21</td>\n",
       "      <td>Autism Dev Lang Impair</td>\n",
       "      <td>Strategies in supporting inclusive education f...</td>\n",
       "    </tr>\n",
       "    <tr>\n",
       "      <th>...</th>\n",
       "      <td>...</td>\n",
       "      <td>...</td>\n",
       "      <td>...</td>\n",
       "      <td>...</td>\n",
       "      <td>...</td>\n",
       "      <td>...</td>\n",
       "    </tr>\n",
       "    <tr>\n",
       "      <th>8654</th>\n",
       "      <td>PMC10137878</td>\n",
       "      <td>ftp://ftp.ncbi.nlm.nih.gov/pub/pmc/oa_package/...</td>\n",
       "      <td>parenting a child with autism spectrum disorde...</td>\n",
       "      <td>2023-04-21</td>\n",
       "      <td>Healthcare (Basel)</td>\n",
       "      <td>Qualitative Investigation into the Perception ...</td>\n",
       "    </tr>\n",
       "    <tr>\n",
       "      <th>8655</th>\n",
       "      <td>PMC5085789</td>\n",
       "      <td>ftp://ftp.ncbi.nlm.nih.gov/pub/pmc/oa_package/...</td>\n",
       "      <td>since involved in synaptic transmission and lo...</td>\n",
       "      <td>2016-10-22</td>\n",
       "      <td>Int J Mol Sci</td>\n",
       "      <td>Association Analysis of Noncoding Variants in ...</td>\n",
       "    </tr>\n",
       "    <tr>\n",
       "      <th>8656</th>\n",
       "      <td>PMC8421761</td>\n",
       "      <td>ftp://ftp.ncbi.nlm.nih.gov/pub/pmc/oa_package/...</td>\n",
       "      <td>background autism spectrum disorder asd or aut...</td>\n",
       "      <td>2021-08-24</td>\n",
       "      <td>Front Psychiatry</td>\n",
       "      <td>A Phase II Randomized, Double-Blind, Placebo-C...</td>\n",
       "    </tr>\n",
       "    <tr>\n",
       "      <th>8657</th>\n",
       "      <td>PMC8464598</td>\n",
       "      <td>ftp://ftp.ncbi.nlm.nih.gov/pub/pmc/oa_package/...</td>\n",
       "      <td>theory of mind tom deficits are common in chil...</td>\n",
       "      <td>2021-09-25</td>\n",
       "      <td>Transl Psychiatry</td>\n",
       "      <td>Do shapes have feelings? Social attribution in...</td>\n",
       "    </tr>\n",
       "    <tr>\n",
       "      <th>8658</th>\n",
       "      <td>PMC7873660</td>\n",
       "      <td>ftp://ftp.ncbi.nlm.nih.gov/pub/pmc/oa_package/...</td>\n",
       "      <td>individuals with autism spectrum disorder asd ...</td>\n",
       "      <td>2021-02-10</td>\n",
       "      <td>J Dev Phys Disabil</td>\n",
       "      <td>An Evaluation of Reinforcer Magnitude and Echo...</td>\n",
       "    </tr>\n",
       "  </tbody>\n",
       "</table>\n",
       "<p>8659 rows × 6 columns</p>\n",
       "</div>"
      ],
      "text/plain": [
       "           pmc_id                                       archive_href  \\\n",
       "0      PMC7284390  ftp://ftp.ncbi.nlm.nih.gov/pub/pmc/oa_package/...   \n",
       "1     PMC10478028  ftp://ftp.ncbi.nlm.nih.gov/pub/pmc/oa_package/...   \n",
       "2      PMC6494343  ftp://ftp.ncbi.nlm.nih.gov/pub/pmc/oa_package/...   \n",
       "3      PMC8501721  ftp://ftp.ncbi.nlm.nih.gov/pub/pmc/oa_package/...   \n",
       "4      PMC9620685  ftp://ftp.ncbi.nlm.nih.gov/pub/pmc/oa_package/...   \n",
       "...           ...                                                ...   \n",
       "8654  PMC10137878  ftp://ftp.ncbi.nlm.nih.gov/pub/pmc/oa_package/...   \n",
       "8655   PMC5085789  ftp://ftp.ncbi.nlm.nih.gov/pub/pmc/oa_package/...   \n",
       "8656   PMC8421761  ftp://ftp.ncbi.nlm.nih.gov/pub/pmc/oa_package/...   \n",
       "8657   PMC8464598  ftp://ftp.ncbi.nlm.nih.gov/pub/pmc/oa_package/...   \n",
       "8658   PMC7873660  ftp://ftp.ncbi.nlm.nih.gov/pub/pmc/oa_package/...   \n",
       "\n",
       "                                          abstract_text    pub_date  \\\n",
       "0     the csp cell surface protein microsatellite ma...  2020-05-08   \n",
       "1     abstractseveral environmental chemicals are su...  2022-11-18   \n",
       "2     abstractchronic pulmonary aspergillosis cpa is...  2019-04-19   \n",
       "3     backgroundautism spectrum disorder asd is a co...  2021-10-09   \n",
       "4     background and aimstrategies to modify and adj...  2022-09-21   \n",
       "...                                                 ...         ...   \n",
       "8654  parenting a child with autism spectrum disorde...  2023-04-21   \n",
       "8655  since involved in synaptic transmission and lo...  2016-10-22   \n",
       "8656  background autism spectrum disorder asd or aut...  2021-08-24   \n",
       "8657  theory of mind tom deficits are common in chil...  2021-09-25   \n",
       "8658  individuals with autism spectrum disorder asd ...  2021-02-10   \n",
       "\n",
       "                      source  \\\n",
       "0             Microorganisms   \n",
       "1        Cereb Cortex Commun   \n",
       "2       Medicine (Baltimore)   \n",
       "3               BMC Neurosci   \n",
       "4     Autism Dev Lang Impair   \n",
       "...                      ...   \n",
       "8654      Healthcare (Basel)   \n",
       "8655           Int J Mol Sci   \n",
       "8656        Front Psychiatry   \n",
       "8657       Transl Psychiatry   \n",
       "8658      J Dev Phys Disabil   \n",
       "\n",
       "                                          article_title  \n",
       "0     Identification of CSP Types and Genotypic Vari...  \n",
       "1     Fetal blockade of nicotinic acetylcholine tran...  \n",
       "2     Evaluation of Aspergillus IgG, IgM antibody fo...  \n",
       "3     A systematic review of common genetic variatio...  \n",
       "4     Strategies in supporting inclusive education f...  \n",
       "...                                                 ...  \n",
       "8654  Qualitative Investigation into the Perception ...  \n",
       "8655  Association Analysis of Noncoding Variants in ...  \n",
       "8656  A Phase II Randomized, Double-Blind, Placebo-C...  \n",
       "8657  Do shapes have feelings? Social attribution in...  \n",
       "8658  An Evaluation of Reinforcer Magnitude and Echo...  \n",
       "\n",
       "[8659 rows x 6 columns]"
      ]
     },
     "execution_count": 4,
     "metadata": {},
     "output_type": "execute_result"
    }
   ],
   "source": [
    "# read articles into dataframe\n",
    "print('reading \"articles\" table')\n",
    "query = 'SELECT * FROM articles WHERE pub_date IS NOT NULL AND source IS NOT NULL AND article_title IS NOT NULL'\n",
    "# mysql package technically isn't supported, but this works fine\n",
    "articles = pd.read_sql(query, cnx)\n",
    "print('done reading \"articles\" table')\n",
    "articles"
   ]
  },
  {
   "cell_type": "markdown",
   "metadata": {},
   "source": [
    "# Filter Articles\n",
    "Need a set of articles without Aspergillus in title."
   ]
  },
  {
   "cell_type": "code",
   "execution_count": 5,
   "metadata": {},
   "outputs": [
    {
     "data": {
      "text/html": [
       "<div>\n",
       "<style scoped>\n",
       "    .dataframe tbody tr th:only-of-type {\n",
       "        vertical-align: middle;\n",
       "    }\n",
       "\n",
       "    .dataframe tbody tr th {\n",
       "        vertical-align: top;\n",
       "    }\n",
       "\n",
       "    .dataframe thead th {\n",
       "        text-align: right;\n",
       "    }\n",
       "</style>\n",
       "<table border=\"1\" class=\"dataframe\">\n",
       "  <thead>\n",
       "    <tr style=\"text-align: right;\">\n",
       "      <th></th>\n",
       "      <th>pmc_id</th>\n",
       "      <th>archive_href</th>\n",
       "      <th>abstract_text</th>\n",
       "      <th>pub_date</th>\n",
       "      <th>source</th>\n",
       "      <th>article_title</th>\n",
       "    </tr>\n",
       "  </thead>\n",
       "  <tbody>\n",
       "    <tr>\n",
       "      <th>1</th>\n",
       "      <td>PMC10478028</td>\n",
       "      <td>ftp://ftp.ncbi.nlm.nih.gov/pub/pmc/oa_package/...</td>\n",
       "      <td>abstractseveral environmental chemicals are su...</td>\n",
       "      <td>2022-11-18</td>\n",
       "      <td>Cereb Cortex Commun</td>\n",
       "      <td>Fetal blockade of nicotinic acetylcholine tran...</td>\n",
       "    </tr>\n",
       "    <tr>\n",
       "      <th>3</th>\n",
       "      <td>PMC8501721</td>\n",
       "      <td>ftp://ftp.ncbi.nlm.nih.gov/pub/pmc/oa_package/...</td>\n",
       "      <td>backgroundautism spectrum disorder asd is a co...</td>\n",
       "      <td>2021-10-09</td>\n",
       "      <td>BMC Neurosci</td>\n",
       "      <td>A systematic review of common genetic variatio...</td>\n",
       "    </tr>\n",
       "    <tr>\n",
       "      <th>4</th>\n",
       "      <td>PMC9620685</td>\n",
       "      <td>ftp://ftp.ncbi.nlm.nih.gov/pub/pmc/oa_package/...</td>\n",
       "      <td>background and aimstrategies to modify and adj...</td>\n",
       "      <td>2022-09-21</td>\n",
       "      <td>Autism Dev Lang Impair</td>\n",
       "      <td>Strategies in supporting inclusive education f...</td>\n",
       "    </tr>\n",
       "    <tr>\n",
       "      <th>5</th>\n",
       "      <td>PMC8162135</td>\n",
       "      <td>ftp://ftp.ncbi.nlm.nih.gov/pub/pmc/oa_package/...</td>\n",
       "      <td>this exploratory study aimed to explore the as...</td>\n",
       "      <td>2020-08-08</td>\n",
       "      <td>Autism</td>\n",
       "      <td>Timing of diagnosis, depression and self-harm ...</td>\n",
       "    </tr>\n",
       "    <tr>\n",
       "      <th>8</th>\n",
       "      <td>PMC10150704</td>\n",
       "      <td>ftp://ftp.ncbi.nlm.nih.gov/pub/pmc/oa_package/...</td>\n",
       "      <td>importancesleep disorders are one of the most ...</td>\n",
       "      <td>2023-04-17</td>\n",
       "      <td>Front Psychiatry</td>\n",
       "      <td>Identification of atypical sleep microarchitec...</td>\n",
       "    </tr>\n",
       "    <tr>\n",
       "      <th>...</th>\n",
       "      <td>...</td>\n",
       "      <td>...</td>\n",
       "      <td>...</td>\n",
       "      <td>...</td>\n",
       "      <td>...</td>\n",
       "      <td>...</td>\n",
       "    </tr>\n",
       "    <tr>\n",
       "      <th>8643</th>\n",
       "      <td>PMC8686326</td>\n",
       "      <td>ftp://ftp.ncbi.nlm.nih.gov/pub/pmc/oa_package/...</td>\n",
       "      <td>autism specific transition resources tres\\naim...</td>\n",
       "      <td>2021-01-28</td>\n",
       "      <td>HRB Open Res</td>\n",
       "      <td>Study protocol for autism specific transition ...</td>\n",
       "    </tr>\n",
       "    <tr>\n",
       "      <th>8648</th>\n",
       "      <td>PMC10406950</td>\n",
       "      <td>ftp://ftp.ncbi.nlm.nih.gov/pub/pmc/oa_package/...</td>\n",
       "      <td>despite many differences autism spectrum disor...</td>\n",
       "      <td>2023-08-07</td>\n",
       "      <td>Sci Rep</td>\n",
       "      <td>Association between increased anterior cingula...</td>\n",
       "    </tr>\n",
       "    <tr>\n",
       "      <th>8652</th>\n",
       "      <td>PMC6298000</td>\n",
       "      <td>ftp://ftp.ncbi.nlm.nih.gov/pub/pmc/oa_package/...</td>\n",
       "      <td>background\\nenvironmental factors can modify t...</td>\n",
       "      <td>2018-12-17</td>\n",
       "      <td>BMC Neurosci</td>\n",
       "      <td>Offline encoding impaired by epigenetic regula...</td>\n",
       "    </tr>\n",
       "    <tr>\n",
       "      <th>8653</th>\n",
       "      <td>PMC6529696</td>\n",
       "      <td>ftp://ftp.ncbi.nlm.nih.gov/pub/pmc/oa_package/...</td>\n",
       "      <td>prebiotic dietary watersoluble fiber obtained ...</td>\n",
       "      <td>2019-03-07</td>\n",
       "      <td>J Clin Biochem Nutr</td>\n",
       "      <td>Dietary supplementation with partially hydroly...</td>\n",
       "    </tr>\n",
       "    <tr>\n",
       "      <th>8657</th>\n",
       "      <td>PMC8464598</td>\n",
       "      <td>ftp://ftp.ncbi.nlm.nih.gov/pub/pmc/oa_package/...</td>\n",
       "      <td>theory of mind tom deficits are common in chil...</td>\n",
       "      <td>2021-09-25</td>\n",
       "      <td>Transl Psychiatry</td>\n",
       "      <td>Do shapes have feelings? Social attribution in...</td>\n",
       "    </tr>\n",
       "  </tbody>\n",
       "</table>\n",
       "<p>2680 rows × 6 columns</p>\n",
       "</div>"
      ],
      "text/plain": [
       "           pmc_id                                       archive_href  \\\n",
       "1     PMC10478028  ftp://ftp.ncbi.nlm.nih.gov/pub/pmc/oa_package/...   \n",
       "3      PMC8501721  ftp://ftp.ncbi.nlm.nih.gov/pub/pmc/oa_package/...   \n",
       "4      PMC9620685  ftp://ftp.ncbi.nlm.nih.gov/pub/pmc/oa_package/...   \n",
       "5      PMC8162135  ftp://ftp.ncbi.nlm.nih.gov/pub/pmc/oa_package/...   \n",
       "8     PMC10150704  ftp://ftp.ncbi.nlm.nih.gov/pub/pmc/oa_package/...   \n",
       "...           ...                                                ...   \n",
       "8643   PMC8686326  ftp://ftp.ncbi.nlm.nih.gov/pub/pmc/oa_package/...   \n",
       "8648  PMC10406950  ftp://ftp.ncbi.nlm.nih.gov/pub/pmc/oa_package/...   \n",
       "8652   PMC6298000  ftp://ftp.ncbi.nlm.nih.gov/pub/pmc/oa_package/...   \n",
       "8653   PMC6529696  ftp://ftp.ncbi.nlm.nih.gov/pub/pmc/oa_package/...   \n",
       "8657   PMC8464598  ftp://ftp.ncbi.nlm.nih.gov/pub/pmc/oa_package/...   \n",
       "\n",
       "                                          abstract_text    pub_date  \\\n",
       "1     abstractseveral environmental chemicals are su...  2022-11-18   \n",
       "3     backgroundautism spectrum disorder asd is a co...  2021-10-09   \n",
       "4     background and aimstrategies to modify and adj...  2022-09-21   \n",
       "5     this exploratory study aimed to explore the as...  2020-08-08   \n",
       "8     importancesleep disorders are one of the most ...  2023-04-17   \n",
       "...                                                 ...         ...   \n",
       "8643  autism specific transition resources tres\\naim...  2021-01-28   \n",
       "8648  despite many differences autism spectrum disor...  2023-08-07   \n",
       "8652  background\\nenvironmental factors can modify t...  2018-12-17   \n",
       "8653  prebiotic dietary watersoluble fiber obtained ...  2019-03-07   \n",
       "8657  theory of mind tom deficits are common in chil...  2021-09-25   \n",
       "\n",
       "                      source  \\\n",
       "1        Cereb Cortex Commun   \n",
       "3               BMC Neurosci   \n",
       "4     Autism Dev Lang Impair   \n",
       "5                     Autism   \n",
       "8           Front Psychiatry   \n",
       "...                      ...   \n",
       "8643            HRB Open Res   \n",
       "8648                 Sci Rep   \n",
       "8652            BMC Neurosci   \n",
       "8653     J Clin Biochem Nutr   \n",
       "8657       Transl Psychiatry   \n",
       "\n",
       "                                          article_title  \n",
       "1     Fetal blockade of nicotinic acetylcholine tran...  \n",
       "3     A systematic review of common genetic variatio...  \n",
       "4     Strategies in supporting inclusive education f...  \n",
       "5     Timing of diagnosis, depression and self-harm ...  \n",
       "8     Identification of atypical sleep microarchitec...  \n",
       "...                                                 ...  \n",
       "8643  Study protocol for autism specific transition ...  \n",
       "8648  Association between increased anterior cingula...  \n",
       "8652  Offline encoding impaired by epigenetic regula...  \n",
       "8653  Dietary supplementation with partially hydroly...  \n",
       "8657  Do shapes have feelings? Social attribution in...  \n",
       "\n",
       "[2680 rows x 6 columns]"
      ]
     },
     "execution_count": 5,
     "metadata": {},
     "output_type": "execute_result"
    }
   ],
   "source": [
    "asd_search_terms = ['autis', 'asperger']\n",
    "\n",
    "# filter out any articles which don't have autis* or asperger in title\n",
    "filtered_articles = articles[articles[\"article_title\"].str.contains('|'.join(asd_search_terms))]\n",
    "filtered_articles"
   ]
  },
  {
   "cell_type": "markdown",
   "metadata": {},
   "source": [
    "# Extract Corpus\n",
    "We need to extract all abstracts to create a corpus."
   ]
  },
  {
   "cell_type": "code",
   "execution_count": 6,
   "metadata": {},
   "outputs": [],
   "source": [
    "# extract corpus\n",
    "abstracts = list(articles.abstract_text)\n",
    "filtered_abstracts = list(filtered_articles.abstract_text)"
   ]
  },
  {
   "cell_type": "code",
   "execution_count": 7,
   "metadata": {},
   "outputs": [
    {
     "name": "stdout",
     "output_type": "stream",
     "text": [
      "Working with 2680 filtered articles out of 8659\n"
     ]
    }
   ],
   "source": [
    "print('Working with {0} filtered articles out of {1}'.format(len(filtered_abstracts), len(abstracts)))"
   ]
  },
  {
   "cell_type": "markdown",
   "metadata": {},
   "source": [
    "# Convert to Word Embeddings\n",
    "We'll be using the Google News pre-trained word embeddings model."
   ]
  },
  {
   "cell_type": "code",
   "execution_count": 8,
   "metadata": {},
   "outputs": [],
   "source": [
    "WORD_EMBEDDINGS_FILEPATH = os.path.join('..', 'word_embeddings', 'GoogleNews-vectors-negative300.bin')\n",
    "gn_vectors = KeyedVectors.load_word2vec_format(WORD_EMBEDDINGS_FILEPATH, binary=True)"
   ]
  },
  {
   "cell_type": "markdown",
   "metadata": {},
   "source": [
    "Let's define a function which averages word embedding vectors across a text."
   ]
  },
  {
   "cell_type": "code",
   "execution_count": 9,
   "metadata": {},
   "outputs": [],
   "source": [
    "def get_text_avg(word_vectors: KeyedVectors, text: str) -> np.array:\n",
    "    # get list of words in text\n",
    "    wl = [i.strip() for i in text.split()]\n",
    "    \n",
    "    # initial word vector list\n",
    "    wvl = []\n",
    "\n",
    "    for word in wl:\n",
    "        try:\n",
    "            wvl.append(word_vectors[word])\n",
    "        except KeyError:\n",
    "            # word not present, continue\n",
    "            continue\n",
    "    \n",
    "    return np.mean(np.array(wvl), axis=0)"
   ]
  },
  {
   "cell_type": "markdown",
   "metadata": {},
   "source": [
    "# Perform K-Means Clustering"
   ]
  },
  {
   "cell_type": "markdown",
   "metadata": {},
   "source": [
    "To make this easier, we'll be using some code from https://dylancastillo.co/nlp-snippets-cluster-documents-using-word2vec/."
   ]
  },
  {
   "cell_type": "code",
   "execution_count": 10,
   "metadata": {},
   "outputs": [],
   "source": [
    "def mbkmeans_clusters(\n",
    "\tX,\n",
    "    k: int,\n",
    "    mb: int,\n",
    "    print_silhouette_values: bool, \n",
    "    seed: int = 42\n",
    "):\n",
    "    \"\"\"Generate clusters and print Silhouette metrics using MBKmeans\n",
    "\n",
    "    Args:\n",
    "        X: Matrix of features.\n",
    "        k: Number of clusters.\n",
    "        mb: Size of mini-batches.\n",
    "        print_silhouette_values: Print silhouette values per cluster.\n",
    "\n",
    "    Returns:\n",
    "        Trained clustering model and labels based on X.\n",
    "    \"\"\"\n",
    "    km = MiniBatchKMeans(n_clusters=k, batch_size=mb, random_state=seed).fit(X)\n",
    "    print(f\"For n_clusters = {k}\")\n",
    "    print(f\"Silhouette coefficient: {silhouette_score(X, km.labels_):0.2f}\")\n",
    "    print(f\"Inertia:{km.inertia_}\")\n",
    "\n",
    "    if print_silhouette_values:\n",
    "        sample_silhouette_values = silhouette_samples(X, km.labels_)\n",
    "        print(f\"Silhouette values:\")\n",
    "        silhouette_values = []\n",
    "        for i in range(k):\n",
    "            cluster_silhouette_values = sample_silhouette_values[km.labels_ == i]\n",
    "            silhouette_values.append(\n",
    "                (\n",
    "                    i,\n",
    "                    cluster_silhouette_values.shape[0],\n",
    "                    cluster_silhouette_values.mean(),\n",
    "                    cluster_silhouette_values.min(),\n",
    "                    cluster_silhouette_values.max(),\n",
    "                )\n",
    "            )\n",
    "        silhouette_values = sorted(\n",
    "            silhouette_values, key=lambda tup: tup[2], reverse=True\n",
    "        )\n",
    "        for s in silhouette_values:\n",
    "            print(\n",
    "                f\"    Cluster {s[0]}: Size:{s[1]} | Avg:{s[2]:.2f} | Min:{s[3]:.2f} | Max: {s[4]:.2f}\"\n",
    "            )\n",
    "    return km, km.labels_, silhouette_score(X, km.labels_)"
   ]
  },
  {
   "cell_type": "markdown",
   "metadata": {},
   "source": [
    "Let's get our word embeddings for all documents:"
   ]
  },
  {
   "cell_type": "code",
   "execution_count": 11,
   "metadata": {},
   "outputs": [],
   "source": [
    "non_asg_we = [get_text_avg(gn_vectors, i) for i in filtered_abstracts]"
   ]
  },
  {
   "cell_type": "markdown",
   "metadata": {},
   "source": [
    "Based on our results from the validation notebook, we'll use four clusters."
   ]
  },
  {
   "cell_type": "code",
   "execution_count": 12,
   "metadata": {},
   "outputs": [],
   "source": [
    "num_clusters = 4"
   ]
  },
  {
   "cell_type": "code",
   "execution_count": 13,
   "metadata": {},
   "outputs": [
    {
     "name": "stdout",
     "output_type": "stream",
     "text": [
      "For n_clusters = 4\n",
      "Silhouette coefficient: 0.07\n",
      "Inertia:356.0877809190362\n",
      "Silhouette values:\n",
      "    Cluster 1: Size:844 | Avg:0.10 | Min:-0.10 | Max: 0.21\n",
      "    Cluster 0: Size:687 | Avg:0.08 | Min:-0.09 | Max: 0.25\n",
      "    Cluster 2: Size:6 | Avg:0.06 | Min:0.03 | Max: 0.11\n",
      "    Cluster 3: Size:1143 | Avg:0.04 | Min:-0.10 | Max: 0.14\n"
     ]
    }
   ],
   "source": [
    "clustering, cluster_labels, sil_score = mbkmeans_clusters(X=non_asg_we,\n",
    "                                            k=num_clusters,\n",
    "                                            mb = len(non_asg_we),\n",
    "                                            print_silhouette_values=True,\n",
    "                                            seed=13)\n"
   ]
  },
  {
   "cell_type": "markdown",
   "metadata": {},
   "source": [
    "Let's now get the most representative tokens per cluster."
   ]
  },
  {
   "cell_type": "code",
   "execution_count": 14,
   "metadata": {},
   "outputs": [
    {
     "name": "stdout",
     "output_type": "stream",
     "text": [
      "most representative terms per cluster (based on centroids):\n",
      "Cluster 0: Genetic_predisposition DNA_methylation_patterns glial_tumors underlying_pathophysiology familial_clustering maturational clefting phenotypic_expression dysfunction_Zada Genetic_variants \n",
      "Cluster 1: %_#F########_9v.jsn By_Jonas_Elmerraji By_Laurelle_Gilbert %_#F########_3v.jsn By_Christine_Fenno By_Elise_Viebeck BY_ANDY_THOMPSON Club_Stairways_Comprehensive By_Joseph_Woelfel By_Kat_Zeman \n",
      "Cluster 2: Club_Stairways_Comprehensive Disordered_eating Irritability_anxiety_cognitive Cerebral_palsy_involves By_Christine_Fenno %_#F########_9v.jsn By_Elise_Viebeck neuropsychological_impairments By_Laurelle_Gilbert dysfunction_Zada \n",
      "Cluster 3: By_Jonas_Elmerraji By_Laurelle_Gilbert By_Elise_Viebeck By_Christine_Fenno DIRECTORS_OF_CAPITAL_CORP. By_Joseph_Woelfel By_Laurie_Kulikowski %_#F########_9v.jsn By_Kat_Zeman %_#F########_3v.jsn \n"
     ]
    }
   ],
   "source": [
    "print('most representative terms per cluster (based on centroids):')\n",
    "for i in range(num_clusters):\n",
    "    tokens_per_cluster = ''\n",
    "    most_representative = gn_vectors.most_similar(positive = [clustering.cluster_centers_[i]], topn = 10)\n",
    "    for t in most_representative:\n",
    "        tokens_per_cluster += f'{t[0]} '\n",
    "    print(f'Cluster {i}: {tokens_per_cluster}')"
   ]
  },
  {
   "cell_type": "markdown",
   "metadata": {},
   "source": [
    "Utter nonsense. How about the most representative documents?"
   ]
  },
  {
   "cell_type": "code",
   "execution_count": 15,
   "metadata": {},
   "outputs": [
    {
     "name": "stdout",
     "output_type": "stream",
     "text": [
      "Cluster 0\n",
      "backgroundautism spectrum disorders asds represent a heterogeneous group of disorders with a wide range of behavioral impairments including social and communication deficits apart from these core symptoms a significant number of asd individuals display higher levels of anxiety and some studies indicate that a subset of asd individuals have a reduced ability to be fear conditioned deciphering the molecular basis of asd has been considerably challenging and it currently remains poorly understood in this study we examined the molecular basis of autismlike impairments in an environmentally induced animal model of asd where pregnant rats are exposed to the known teratogen valproic acid vpa on day 125 of gestation and the subsequent progeny exhibit asdlike symptoms we focused our analysis on the basal and lateral nucleus of the amygdala bla a region of the brain found to be associated with asd pathologymethodswe performed whole genome gene expression analysis on the bla using dna microarrays to examine differences in gene expression within the amygdala of vpaexposed animals we validated one vpadysregulated candidate gene homer1a using both quantitative pcr qrtpcr and western blot finally we overexpressed homer1a within the basal and lateral amygdala of naïve animals utilizing adenoassociated viruses aav and subsequently examined these animals in a battery of behavioral tests associated with asd including auditory fear conditioning social interaction and open fieldresultsour microarray data indicated that homer1a was one of the genes which exhibited a significant upregulation within the amygdala we observed an increase in homer1a messenger rna mrna and protein in multiple cohorts of vpaexposed animals indicating that dysregulation of homer1a levels might underlie some of the symptoms exhibited by vpaexposed animals to test this hypothesis we overexpressed homer1a within bla neurons utilizing a viralmediated approach and found that overexpression of homer1a impaired auditory fear conditioning and reduced social interaction while having no influence on openfield behaviorconclusionsthis study indicates that dysregulation of amygdala homer1a might contribute to some autismlike symptoms induced by vpa exposure these findings are interesting in part because homer1a influences the functioning of shank3 metabotropic glutamate receptors mglur5 and homer1 and these proteins have previously been associated with asd indicating that these differing models of asd may have a similar molecular basiselectronic supplementary materialthe online version of this article doi101186s1322901600779 contains supplementary material which is available to authorized users\n",
      "---------------------\n",
      "mutations in βcatenin ctnnb1 have been implicated in cancer and mental disorders recently lossoffunction mutations of ctnnb1 were linked to intellectual disability id and rare mutations were identified in patients with autism spectrum disorder asd as a key regulator of the canonical wnt pathway ctnnb1 plays an essential role in neurodevelopment however the function of ctnnb1 in specific neuronal subtypes is unclear to understand how ctnnb1 deficiency contributes to asd we generated ctnnb1 conditional knockout cko mice in parvalbumin interneurons the cko mice had increased anxiety but had no overall change in motor function interestingly ctnnb1 cko in pvinterneurons significantly impaired object recognition and social interactions and elevated repetitive behaviors which mimic the core symptoms of patients with asd surprisingly deleting ctnnb1 in parvalbumininterneurons enhanced spatial memory to determine the effect of ctnnb1 ko in overall neuronal activity we found that cfos was significantly reduced in the cortex but not in the dentate gyrus and the amygdala our findings revealed a cell typespecific role of ctnnb1 gene in regulation of cognitive and autisticlike behaviors thus this study has important implications for development of therapies for asds carrying the ctnnb1 mutation or other asds that are associated with mutations in the wnt pathway in addition our study contributes to a broader understanding of the regulation of the inhibitory circuitry\n",
      "---------------------\n",
      "autism spectrum disorder asd is a complex neurodevelopmental disorder often accompanied by intellectual disability language impairment and medical comorbidities the heritability of autism is high and multiple genes have been implicated as causal however most of these genes have been identified in de novo cases to further the understanding of familial autism we performed wholeexome sequencing on five families in which second and thirddegree relatives were affected by focusing on novel and proteinaltering variants we identified a small set of candidate genes among these a novel private missense c1143f variant in the second intracellular loop of the voltagegated sodium channel nav17 encoded by the scn9a gene was identified in one family through electrophysiological analysis we show that nav17c1143f exhibits partial lossoffunction effects resulting in slower recovery from inactivation and decreased excitability in cultured cortical neurons furthermore for the same intracellular loop of nav17 we found an excess of rare variants in a case–control variantburden study functional analysis of one of these variants m932lv991l also demonstrated reduced firing in cortical neurons however although this variant is rare in caucasians it is frequent in latino population suggesting that genetic background can alter its effects on phenotype although the involvement of the scn1a and scn2a genes encoding nav11 and nav12 channels in de novo asd has previously been demonstrated our study indicates the involvement of inherited scn9a variants and partial lossoffunction of nav17 channels in the etiology of rare familial asd\n",
      "---------------------\n",
      "\n",
      "Cluster 1\n",
      "in autism spectrum disorders asd social communication and stereotypical behaviour patterns affect all areas of life and can result in a decrease of its quality previous research has shown promising results for the social skills of groups of children with asd furthermore a pilot study of the tübingen group training for autism spectrum disorders tütass has demonstrated that mindfulnessbased elements achieve additional positive effects to build on these findings the tütass training was adapted and expanded indeed the tütass currently includes 20 90min appointments starting with the basic skills of emotions body and communication which are then transferred to personal family peer and school spheres the appointments have a fixed consistent structure and each includes a body awareness exercise in this study we evaluated the tütass with 27 children with asd the results showed improvements in prepost comparison in behaviours associated with autism as well as in externalising and internalising behaviours as assessed by parent reports participant selfreports and independent raters in participating children furthermore the perceived parent burden in relation to their children decreased whereas the participants’ selfrated quality of life increased overall both the participants and their parents rated the tütass very positively in rating sheets and in free feedback if replicated in larger controlled trials tütass training might be a useful treatment tool for groups of children with asd\n",
      "---------------------\n",
      "backgrounda small percentage of people with autism spectrum disorders asd have alterations in chromosome 15q112q3 the critical region for praderwilli syndrome pws data are limited however on the rates and characteristics of asd in pws previous estimates of asd in pws 25 to 41 are questionable as they are based solely on autism screeners given to parents inaccurate diagnoses of asd in pws can mislead intervention and future researchmethodsone hundred fortysix children and youth with pws aged 4 to 21 years m  11 were assessed with the autism diagnostic observation schedule2 ados2 an expert clinical teammade bestestimate asd diagnoses based on ados2 videotapes calibrated severity scores and children’s developmental histories and indices of current functioning children were also administered the kaufman brief intelligence test2 and parents completed the repetitive behavior scalerevised and vineland adaptive behavior scales scores were compared across children with pws  asd versus pws only the performance of an asd screener the social communication questionnaire scq and the ados2 were evaluated in relation to bestestimate diagnosesresultsbestestimate diagnoses of asd were made in 18 children or 123 of the sample and the majority of them had the maternal uniparental disomy mupd pws genetic subtype compared to the pwsonly group children with pws  asd had lower verbal and composite iq’s and adaptive daily living and socialization skills as well as elevated stereotypies and restricted interests regardless of asd status compulsivity and insistence on sameness in routines or events were seen in 76–100 of children and were robustly correlated with lower adaptive functioning the scq yielded a 29–49 chance that screenpositive cases will indeed have asd the ados2 had higher sensitivity specificity and predictive values communication problems were seen in children who were ados2 positive but deemed not to have asd by the clinical teamconclusionsautism screeners should not be the sole index of probable asd in pws children need to be directly observed and evaluated compulsivity and insistence on sameness are salient in pws and likely impede adaptive functioning most children with pws only evidenced subthreshold problems in social interactions that could signal risks for other psychopathologieselectronic supplementary materialthe online version of this article doi101186s1168901792002 contains supplementary material which is available to authorized users\n",
      "---------------------\n",
      "researchers have generally considered autistic individuals to have difficulties generalising learned skills across novel contexts successful generalisation is necessary for an intervention to have benefits in everyday life beyond the original learning environment we conducted a systematic review of randomised controlled trials of early social communication interventions for children with autism in order to explore generalisation and its measurement we identified nine rcts that provided evidence of initial target learning and measured generalisation of which eight demonstrated at least some successful generalisation across people settings andor activities the findings did not support the widely reported generalisation ‘difficulties’ associated with autism however generalisation was not consistent across all skills within studies and one study found no generalisation despite evidence for initial target learning within the intervention context in general there are few methodologically sound social communication intervention studies exploring generalisation in autism and no consensus on how it should be measured in particular failure to demonstrate initial learning of target skills within the intervention setting and an absence of formal mediation analyses of the hypothesised mechanisms limit current research we outline a framework within which measurement of generalisation can be considered for use in future trials to maximise the effectiveness of interventions the field needs to gain a better understanding of the nature of generalisation among autistic individuals and what additional strategies may further enhance learning autism res 2020 13 506–522 © 2020 the authors autism research published by international society for autism research published by wiley periodicals inclay summaryit is generally considered that autistic individuals experience difficulties applying things they have learned in one context into different settings eg from school to home this is important to consider for intervention studies our review does not support a complete lack of generalisation but instead suggests that after early social communication intervention autistic children can transfer some skills to new contexts overall there is limited research in this area and further work is needed\n",
      "---------------------\n",
      "\n",
      "Cluster 2\n",
      "childhood maltreatment is defined as experiencing of physical emotional and sexual abuse and neglect in childhood maltreatment in childhood leads to substantial psychosocial problems later in life in the general population individuals with autism spectrum disorder asd have a higher risk of experiencing stressful and traumatic events such as maltreatment during childhood although childhood maltreatment reportedly leads to psychosocial problems in adults with asd the biological associations between childhood experiences and brain function in this population remain understudied here we evaluated the relationships between childhood experiences and eventrelated potential erp components during the auditory oddball task in adults with asd n  21 and typically developed td individuals n  22 we found that the higher the severity of sexual abuse the larger the amplitude of p300 at fz cz c3 and c4 in individuals with asd conversely the severity of child maltreatment was associated with p300 latency at cz and c3 in td individuals moreover full iq was significantly associated with the mmn amplitude at fz cz c3 and c4 in td individuals these findings provide the first evidence that erps could be used to study the impacts childhood experiences on the brain of individuals with asd and that childhood sexual abuse has salient impacts on brain function in this population\n",
      "---------------------\n",
      "backgroundrutter and colleagues seminal observation that extended early life exposure to extreme institutional deprivation can result in what he termed quasi‐autism qa informed both our understanding of the effects of adversity on development and the nature of autism here we provide the first detailed analysis of the adult outcomes of the group of institutionally deprived‐then‐adopted children identified as displaying qamethodstwenty‐six adult adoptees identified with qa in childhood childhood qa were compared to 75 adoptees who experienced extended institutional deprivation 6 months but no qa childhood qa− and 116 adoptees exposed to lowno institutional deprivation the outcomes were child‐to‐adult developmental trajectories of neuro‐developmental symptoms autism attention‐deficithyperactivity disorder adhd disinhibited social engagement dse and cognitive impairment adult functioning life satisfaction and mental healthresults\n",
      "childhood qa was associated with elevated and persistent trajectories of broad‐based autism‐related difficulties adhd and dse symptoms and low iq as well as adult mental health difficulties and functional impairment including high rates of low educational attainment and unemployment life satisfaction and self‐esteem were unaffected autism‐related communication problems in particular predicted negative adult outcomes childhood qa was still associated with poor outcomes even when adhd dse and iq were controlledconclusionsearly and time‐limited institutional deprivation has a critical impact on adult functioning in part via its association with an early established and persistent variant of autism especially related to communication difficulties apparent similarities and differences to non‐deprivation related autism are discussed\n",
      "---------------------\n",
      "introductionparents of children with an autism spectrum disorder asd are at higher risk of suffering from mental health problems mhp than parents of children with other developmental disabilities research on the general population documented that mhp in parents contributes as a significant risk factor for maladjustment outcomes in their offspring while parental anxiety disorders in particular have been associated with a higher prevalence of anxiety disorders in the offspring however evidence concerning possible associations between parentoffspring psychological problems in the case of asdfamilies is scarce and inconsistentthis study forms a part of a larger phd study and some preliminary findings have been partially discussed in previous workobjectivesto investigate any association between anxiety symptoms in neurotypical offspring asdsiblings with parental mhpmethods118 parentchilddyads from asdfamilies that fulfilled inclusion criteria participated in this study and answered a demographic questionnaire parents were administered the ghq28 while the children answered the staicatrait a hierarchical multiple regression was performed to test the hypothesisresultsparticipating parents demonstrating poorer mental health with 53 449 of them considered as suffering from psychological distress according to the score of ghq28 furthermore hierarchical regression showed that staicatrait total score of asdsiblings was associated with parental anxiety std beta0292 p029model 1 and this association persisted after demographics entered the model std beta0300 p0029 model 2conclusionsthis study shows a significant association between parental psychological distress and anxiety in the neurotypical offspring in asdfamilies highlighting the need to provide all members of asdfamilies with the appropriate servicesdisclosureno significant relationships\n",
      "---------------------\n",
      "\n",
      "Cluster 3\n",
      "abstractearly detection of autism risk in the community is critical to increasing families access to early intervention yet few measures have been developed and tested for the general population of infants 16 months to tap a broader range of autism risk constructs this study aimed to a examine the factor structure of the first years inventory version 31 fyiv31 with a sample of 6454 infants 6–16 months and b determine the ability of the resulting factors to discriminate clinical outcome groups at 3 years of age the fyiv31 is a parent‐report tool designed to detect early behavioral risk signs that may be associated with a later diagnosis of asd and related neurodevelopmental conditions factor analytic models were used to determine the number of constructs and inter‐factor correlations findings supported a seven‐factor structure communication imitation and play cip social attention and affective engagement sae sensory hyperresponsiveness hyper sensory hyporesponsiveness hypo self‐regulation in daily routines sreg sensory interests repetitions and seeking behaviors sirs motor coordination and milestones mcm mean comparisons on these factors demonstrated significant discrimination of the three outcome groups at age 3 years including those classified as having an asd diagnosis andor high autism symptoms those classified as having other developmental disordersconditionsconcerns and those classified with no known conditionsconcerns these findings support the validity and multidimensionality of early asd risk constructs as well as the potential use of the fyiv31 for phenotypic subtyping in the general population and early detection in a broader age range of 6–16 months in future clinical studieslay summarythe fyiv31 is a 69‐item parent‐report questionnaire about infant behaviors that may indicate an elevated likelihood for later neurodevelopmental conditions such as autism analyses of responses from 6454 parents of infants 6–16 months indicated that items could be grouped reliably into seven categories compared to children with or without other developmental conditions children in the outcome group with autism spectrum disorder andor high autism symptoms at age three showed more behavioral risk signs in social‐communication sensory and motor domains during infancy\n",
      "---------------------\n",
      "backgrounda small percentage of people with autism spectrum disorders asd have alterations in chromosome 15q112q3 the critical region for praderwilli syndrome pws data are limited however on the rates and characteristics of asd in pws previous estimates of asd in pws 25 to 41 are questionable as they are based solely on autism screeners given to parents inaccurate diagnoses of asd in pws can mislead intervention and future researchmethodsone hundred fortysix children and youth with pws aged 4 to 21 years m  11 were assessed with the autism diagnostic observation schedule2 ados2 an expert clinical teammade bestestimate asd diagnoses based on ados2 videotapes calibrated severity scores and children’s developmental histories and indices of current functioning children were also administered the kaufman brief intelligence test2 and parents completed the repetitive behavior scalerevised and vineland adaptive behavior scales scores were compared across children with pws  asd versus pws only the performance of an asd screener the social communication questionnaire scq and the ados2 were evaluated in relation to bestestimate diagnosesresultsbestestimate diagnoses of asd were made in 18 children or 123 of the sample and the majority of them had the maternal uniparental disomy mupd pws genetic subtype compared to the pwsonly group children with pws  asd had lower verbal and composite iq’s and adaptive daily living and socialization skills as well as elevated stereotypies and restricted interests regardless of asd status compulsivity and insistence on sameness in routines or events were seen in 76–100 of children and were robustly correlated with lower adaptive functioning the scq yielded a 29–49 chance that screenpositive cases will indeed have asd the ados2 had higher sensitivity specificity and predictive values communication problems were seen in children who were ados2 positive but deemed not to have asd by the clinical teamconclusionsautism screeners should not be the sole index of probable asd in pws children need to be directly observed and evaluated compulsivity and insistence on sameness are salient in pws and likely impede adaptive functioning most children with pws only evidenced subthreshold problems in social interactions that could signal risks for other psychopathologieselectronic supplementary materialthe online version of this article doi101186s1168901792002 contains supplementary material which is available to authorized users\n",
      "---------------------\n",
      "backgroundthe poorer physical health of autistic adults compared to nonautistic adults has been highlighted by several epidemiological studies however research has so far been limited to specific geographical areas and has primarily focused on young autistic individuals aged 35 years and younger recent studies indicate a higher rate of mortality in autistic people as well as poorer quality of selfreported healthcare interactions this study aims to determine first whether autistic people experience greater levels of noncommunicable health conditions and second whether these are explained by differences in demographics ie sex country of residence ethnicity education level alcohol use smoking body mass index bmi or family history of medical conditionsmethodwe employed a crosssectional conveniencesampling study via an anonymous online survey of autistic and nonautistic adults n  2305 mean age  416 659 female 49 autistic the survey asked participants to selfreport information about their demographics autism diagnosis diet exercise sleep sexual health substance use personal medical history and family medical history for all firstdegree biological relatives binomial logistic regression across four iterative models of increasing complexity was applied to assess rates of physical health conditions the benjamini–hochberg correction was used to account for multiple testing and only physical health conditions that achieved at least 1 endorsement within the overall sample n  22 were included in the analysis to reduce risk of type i errors we also used novel network analysis methods to test whether there are increased levels of multimorbidity between autistic and nonautistic peopleresultsthere were significantly elevated rates of noncommunicable conditions across all organ systems in autistic people including gastrointestinal neurological endocrine visual earnosethroat skin liver and kidney and haematological conditions we confirmed previous findings by showing highly significant differences in rates of neurological and gastrointestinal symptoms p  00001 in addition we established in the largest sample to date that ehlerdanlos syndrome eds was more likely to occur among autistic females compared to nonautistic females finally we found a higher prevalence of coeliac’s disease among autistic individuals compared to nonautistic individuals after controlling for sex ethnicity country of residence alcohol use smoking and bmi but these results became nonsignificant after accounting for family historylimitationsour study is biased towards females white individuals highly educated people and uk residents likely due to sampling biases our selfreport study design may also exclude those who lack access to computers or those with intellectual disability our network analysis is also limited in sizeconclusionsthis study provides evidence of widespread physical health comorbidity that spans nearly all major organ systems in autistic adults compared to nonautistic adults using both binary logistic regression and network models healthcare professionals must be made aware of the range of cooccurring physical health conditions that may be more common among autistic people however our findings also point towards potential avenues requiring further exploration such as the association of autism with both coeliac’s disease and edssupplementary informationthe online version contains supplementary material available at 101186s13229023005652\n",
      "---------------------\n",
      "\n"
     ]
    }
   ],
   "source": [
    "for i in range(num_clusters):\n",
    "    most_representative_docs = np.argsort(\n",
    "        np.linalg.norm(non_asg_we - clustering.cluster_centers_[i], axis=1)\n",
    "    )\n",
    "    print(f'Cluster {i}')\n",
    "    for d in most_representative_docs[:3]:\n",
    "        print(filtered_abstracts[d])\n",
    "        print('---------------------')\n",
    "    print()"
   ]
  },
  {
   "cell_type": "markdown",
   "metadata": {},
   "source": [
    "Yup, there it is!\n",
    "These actually appear to be segregating in a much more reasonable way!\n",
    "Now let's plot this."
   ]
  },
  {
   "cell_type": "markdown",
   "metadata": {},
   "source": [
    "## K-Means Plotting - Validation"
   ]
  },
  {
   "cell_type": "code",
   "execution_count": 16,
   "metadata": {},
   "outputs": [],
   "source": [
    "u_cluster_labels = np.unique(cluster_labels)"
   ]
  },
  {
   "cell_type": "code",
   "execution_count": 17,
   "metadata": {},
   "outputs": [
    {
     "name": "stdout",
     "output_type": "stream",
     "text": [
      "8\n",
      "['b', 'g', 'r', 'c']\n",
      "['o', 'x', '+', 'D']\n"
     ]
    }
   ],
   "source": [
    "all_colors = list(mcolors.BASE_COLORS.keys())\n",
    "print(len(all_colors))\n",
    "all_labels = ['o', 'x', '+', 'D', 'v', '1', 's']\n",
    "color_set = []\n",
    "marker_set = []\n",
    "for i in u_cluster_labels:\n",
    "    color_set.append(all_colors[i % len(all_colors)])\n",
    "    marker_set.append(all_labels[i % len(all_labels)])\n",
    "print(color_set)\n",
    "print(marker_set)"
   ]
  },
  {
   "cell_type": "code",
   "execution_count": 18,
   "metadata": {},
   "outputs": [
    {
     "data": {
      "text/plain": [
       "300"
      ]
     },
     "execution_count": 18,
     "metadata": {},
     "output_type": "execute_result"
    }
   ],
   "source": [
    "len(non_asg_we[0])"
   ]
  },
  {
   "cell_type": "markdown",
   "metadata": {},
   "source": [
    "To visualize these 300D vectors, we need to use a dimensionality reduction algorithm that preserves high-order structure. Let's try using PHATE."
   ]
  },
  {
   "cell_type": "code",
   "execution_count": 19,
   "metadata": {},
   "outputs": [
    {
     "name": "stdout",
     "output_type": "stream",
     "text": [
      "Calculating PHATE...\n",
      "  Running PHATE on 2680 observations and 300 variables.\n",
      "  Calculating graph and diffusion operator...\n",
      "    Calculating PCA...\n",
      "    Calculated PCA in 0.23 seconds.\n",
      "    Calculating KNN search...\n",
      "    Calculated KNN search in 0.38 seconds.\n",
      "    Calculating affinities...\n",
      "    Calculated affinities in 0.02 seconds.\n",
      "  Calculated graph and diffusion operator in 0.65 seconds.\n",
      "  Calculating landmark operator...\n",
      "    Calculating SVD...\n"
     ]
    },
    {
     "name": "stderr",
     "output_type": "stream",
     "text": [
      "c:\\Users\\eeday\\AppData\\Local\\Programs\\Python\\Python312\\Lib\\site-packages\\graphtools\\graphs.py:290: RuntimeWarning: Detected zero distance between 27 pairs of samples. Consider removing duplicates to avoid errors in downstream processing.\n",
      "  warnings.warn(\n",
      "c:\\Users\\eeday\\AppData\\Local\\Programs\\Python\\Python312\\Lib\\site-packages\\graphtools\\graphs.py:454: RuntimeWarning: overflow encountered in power\n",
      "  K.data = np.exp(-1 * np.power(K.data, self.decay))\n"
     ]
    },
    {
     "name": "stdout",
     "output_type": "stream",
     "text": [
      "    Calculated SVD in 0.49 seconds.\n",
      "    Calculating KMeans...\n",
      "    Calculated KMeans in 2.54 seconds.\n",
      "  Calculated landmark operator in 3.42 seconds.\n",
      "  Calculating optimal t...\n",
      "    Automatically selected t = 18\n",
      "  Calculated optimal t in 2.88 seconds.\n",
      "  Calculating diffusion potential...\n",
      "  Calculated diffusion potential in 0.71 seconds.\n",
      "  Calculating metric MDS...\n",
      "  Calculated metric MDS in 2.33 seconds.\n",
      "Calculated PHATE in 10.00 seconds.\n"
     ]
    }
   ],
   "source": [
    "po = phate.PHATE()\n",
    "ph_all_we = po.fit_transform(np.array(non_asg_we))"
   ]
  },
  {
   "cell_type": "code",
   "execution_count": 22,
   "metadata": {},
   "outputs": [
    {
     "data": {
      "image/png": "[encoded data removed]",
      "text/plain": [
       "<Figure size 1000x800 with 1 Axes>"
      ]
     },
     "metadata": {},
     "output_type": "display_data"
    }
   ],
   "source": [
    "plt.figure(figsize=(10,8))\n",
    "u_cluster_labels_reordered = [0, 1, 3, 2]\n",
    "for i in u_cluster_labels_reordered:\n",
    "    plt.scatter(ph_all_we[cluster_labels == i, 0], ph_all_we[cluster_labels == i, 1], label=f'Cluster {i}', c=color_set[i], marker=marker_set[i], alpha=0.5)\n",
    "plt.legend(fontsize = 10, ncol = 2)\n",
    "plt.show()"
   ]
  },
  {
   "cell_type": "markdown",
   "metadata": {},
   "source": [
    "Although the clustering that PHATE uses is different from the way that K-Means tends to cluster, it appears to be clustering in a reasonable way."
   ]
  }
 ],
 "metadata": {
  "kernelspec": {
   "display_name": "Python 3",
   "language": "python",
   "name": "python3"
  },
  "language_info": {
   "codemirror_mode": {
    "name": "ipython",
    "version": 3
   },
   "file_extension": ".py",
   "mimetype": "text/x-python",
   "name": "python",
   "nbconvert_exporter": "python",
   "pygments_lexer": "ipython3",
   "version": "3.12.0"
  }
 },
 "nbformat": 4,
 "nbformat_minor": 2
}
